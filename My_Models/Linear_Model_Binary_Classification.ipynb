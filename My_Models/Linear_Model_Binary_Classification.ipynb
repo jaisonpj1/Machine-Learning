{
 "cells": [
  {
   "cell_type": "code",
   "execution_count": 118,
   "metadata": {},
   "outputs": [],
   "source": [
    "import numpy as np\n",
    "import pandas as pd"
   ]
  },
  {
   "cell_type": "code",
   "execution_count": 119,
   "metadata": {
    "scrolled": true
   },
   "outputs": [
    {
     "data": {
      "text/html": [
       "<div>\n",
       "<style scoped>\n",
       "    .dataframe tbody tr th:only-of-type {\n",
       "        vertical-align: middle;\n",
       "    }\n",
       "\n",
       "    .dataframe tbody tr th {\n",
       "        vertical-align: top;\n",
       "    }\n",
       "\n",
       "    .dataframe thead th {\n",
       "        text-align: right;\n",
       "    }\n",
       "</style>\n",
       "<table border=\"1\" class=\"dataframe\">\n",
       "  <thead>\n",
       "    <tr style=\"text-align: right;\">\n",
       "      <th></th>\n",
       "      <th>REF_NO</th>\n",
       "      <th>children</th>\n",
       "      <th>age_band</th>\n",
       "      <th>status</th>\n",
       "      <th>occupation</th>\n",
       "      <th>occupation_partner</th>\n",
       "      <th>home_status</th>\n",
       "      <th>family_income</th>\n",
       "      <th>self_employed</th>\n",
       "      <th>self_employed_partner</th>\n",
       "      <th>...</th>\n",
       "      <th>Investment Tax Saving Bond</th>\n",
       "      <th>Home Loan</th>\n",
       "      <th>Online Purchase Amount</th>\n",
       "      <th>Revenue Grid</th>\n",
       "      <th>gender</th>\n",
       "      <th>region</th>\n",
       "      <th>Investment in Commudity</th>\n",
       "      <th>Investment in Equity</th>\n",
       "      <th>Investment in Derivative</th>\n",
       "      <th>Portfolio Balance</th>\n",
       "    </tr>\n",
       "  </thead>\n",
       "  <tbody>\n",
       "    <tr>\n",
       "      <th>0</th>\n",
       "      <td>1</td>\n",
       "      <td>Zero</td>\n",
       "      <td>51-55</td>\n",
       "      <td>Partner</td>\n",
       "      <td>Manual Worker</td>\n",
       "      <td>Secretarial/Admin</td>\n",
       "      <td>Own Home</td>\n",
       "      <td>&lt;17,500, &gt;=15,000</td>\n",
       "      <td>No</td>\n",
       "      <td>No</td>\n",
       "      <td>...</td>\n",
       "      <td>19.99</td>\n",
       "      <td>0.00</td>\n",
       "      <td>0.00</td>\n",
       "      <td>1</td>\n",
       "      <td>Female</td>\n",
       "      <td>Wales</td>\n",
       "      <td>74.67</td>\n",
       "      <td>18.66</td>\n",
       "      <td>32.32</td>\n",
       "      <td>89.43</td>\n",
       "    </tr>\n",
       "    <tr>\n",
       "      <th>1</th>\n",
       "      <td>2</td>\n",
       "      <td>Zero</td>\n",
       "      <td>55-60</td>\n",
       "      <td>Single/Never Married</td>\n",
       "      <td>Retired</td>\n",
       "      <td>Retired</td>\n",
       "      <td>Own Home</td>\n",
       "      <td>&lt;27,500, &gt;=25,000</td>\n",
       "      <td>No</td>\n",
       "      <td>No</td>\n",
       "      <td>...</td>\n",
       "      <td>0.00</td>\n",
       "      <td>0.00</td>\n",
       "      <td>0.00</td>\n",
       "      <td>2</td>\n",
       "      <td>Female</td>\n",
       "      <td>North West</td>\n",
       "      <td>20.19</td>\n",
       "      <td>0.00</td>\n",
       "      <td>4.33</td>\n",
       "      <td>22.78</td>\n",
       "    </tr>\n",
       "    <tr>\n",
       "      <th>2</th>\n",
       "      <td>3</td>\n",
       "      <td>Zero</td>\n",
       "      <td>26-30</td>\n",
       "      <td>Single/Never Married</td>\n",
       "      <td>Professional</td>\n",
       "      <td>Other</td>\n",
       "      <td>Own Home</td>\n",
       "      <td>&lt;30,000, &gt;=27,500</td>\n",
       "      <td>Yes</td>\n",
       "      <td>No</td>\n",
       "      <td>...</td>\n",
       "      <td>0.00</td>\n",
       "      <td>3.49</td>\n",
       "      <td>0.00</td>\n",
       "      <td>2</td>\n",
       "      <td>Male</td>\n",
       "      <td>North</td>\n",
       "      <td>98.06</td>\n",
       "      <td>31.07</td>\n",
       "      <td>80.96</td>\n",
       "      <td>171.78</td>\n",
       "    </tr>\n",
       "    <tr>\n",
       "      <th>3</th>\n",
       "      <td>5</td>\n",
       "      <td>Zero</td>\n",
       "      <td>18-21</td>\n",
       "      <td>Single/Never Married</td>\n",
       "      <td>Professional</td>\n",
       "      <td>Manual Worker</td>\n",
       "      <td>Own Home</td>\n",
       "      <td>&lt;15,000, &gt;=12,500</td>\n",
       "      <td>No</td>\n",
       "      <td>No</td>\n",
       "      <td>...</td>\n",
       "      <td>0.00</td>\n",
       "      <td>0.00</td>\n",
       "      <td>0.00</td>\n",
       "      <td>2</td>\n",
       "      <td>Female</td>\n",
       "      <td>West Midlands</td>\n",
       "      <td>4.10</td>\n",
       "      <td>14.15</td>\n",
       "      <td>17.57</td>\n",
       "      <td>-41.70</td>\n",
       "    </tr>\n",
       "    <tr>\n",
       "      <th>4</th>\n",
       "      <td>6</td>\n",
       "      <td>Zero</td>\n",
       "      <td>45-50</td>\n",
       "      <td>Partner</td>\n",
       "      <td>Business Manager</td>\n",
       "      <td>Unknown</td>\n",
       "      <td>Own Home</td>\n",
       "      <td>&lt;30,000, &gt;=27,500</td>\n",
       "      <td>No</td>\n",
       "      <td>No</td>\n",
       "      <td>...</td>\n",
       "      <td>0.00</td>\n",
       "      <td>45.91</td>\n",
       "      <td>25.98</td>\n",
       "      <td>2</td>\n",
       "      <td>Female</td>\n",
       "      <td>Scotland</td>\n",
       "      <td>70.16</td>\n",
       "      <td>55.86</td>\n",
       "      <td>80.44</td>\n",
       "      <td>235.02</td>\n",
       "    </tr>\n",
       "  </tbody>\n",
       "</table>\n",
       "<p>5 rows × 32 columns</p>\n",
       "</div>"
      ],
      "text/plain": [
       "   REF_NO children age_band                status        occupation  \\\n",
       "0       1     Zero    51-55               Partner     Manual Worker   \n",
       "1       2     Zero    55-60  Single/Never Married           Retired   \n",
       "2       3     Zero    26-30  Single/Never Married      Professional   \n",
       "3       5     Zero    18-21  Single/Never Married      Professional   \n",
       "4       6     Zero    45-50               Partner  Business Manager   \n",
       "\n",
       "  occupation_partner home_status      family_income self_employed  \\\n",
       "0  Secretarial/Admin    Own Home  <17,500, >=15,000            No   \n",
       "1            Retired    Own Home  <27,500, >=25,000            No   \n",
       "2              Other    Own Home  <30,000, >=27,500           Yes   \n",
       "3      Manual Worker    Own Home  <15,000, >=12,500            No   \n",
       "4            Unknown    Own Home  <30,000, >=27,500            No   \n",
       "\n",
       "  self_employed_partner        ...          Investment Tax Saving Bond  \\\n",
       "0                    No        ...                               19.99   \n",
       "1                    No        ...                                0.00   \n",
       "2                    No        ...                                0.00   \n",
       "3                    No        ...                                0.00   \n",
       "4                    No        ...                                0.00   \n",
       "\n",
       "  Home Loan Online Purchase Amount Revenue Grid  gender         region  \\\n",
       "0      0.00                   0.00            1  Female          Wales   \n",
       "1      0.00                   0.00            2  Female     North West   \n",
       "2      3.49                   0.00            2    Male          North   \n",
       "3      0.00                   0.00            2  Female  West Midlands   \n",
       "4     45.91                  25.98            2  Female       Scotland   \n",
       "\n",
       "   Investment in Commudity  Investment in Equity  Investment in Derivative  \\\n",
       "0                    74.67                 18.66                     32.32   \n",
       "1                    20.19                  0.00                      4.33   \n",
       "2                    98.06                 31.07                     80.96   \n",
       "3                     4.10                 14.15                     17.57   \n",
       "4                    70.16                 55.86                     80.44   \n",
       "\n",
       "   Portfolio Balance  \n",
       "0              89.43  \n",
       "1              22.78  \n",
       "2             171.78  \n",
       "3             -41.70  \n",
       "4             235.02  \n",
       "\n",
       "[5 rows x 32 columns]"
      ]
     },
     "execution_count": 119,
     "metadata": {},
     "output_type": "execute_result"
    }
   ],
   "source": [
    "file=r\"E:\\Jaison\\Cource Meterials\\Python\\ML\\Data\\Existing Base.csv\"\n",
    "bd=pd.read_csv(file)\n",
    "bd.head()"
   ]
  },
  {
   "cell_type": "code",
   "execution_count": 120,
   "metadata": {},
   "outputs": [
    {
     "data": {
      "text/plain": [
       "[('REF_NO', dtype('int64'), 10155),\n",
       " ('children', dtype('O'), 5),\n",
       " ('age_band', dtype('O'), 13),\n",
       " ('status', dtype('O'), 5),\n",
       " ('occupation', dtype('O'), 9),\n",
       " ('occupation_partner', dtype('O'), 9),\n",
       " ('home_status', dtype('O'), 5),\n",
       " ('family_income', dtype('O'), 13),\n",
       " ('self_employed', dtype('O'), 2),\n",
       " ('self_employed_partner', dtype('O'), 2),\n",
       " ('year_last_moved', dtype('int64'), 95),\n",
       " ('TVarea', dtype('O'), 14),\n",
       " ('post_code', dtype('O'), 10040),\n",
       " ('post_area', dtype('O'), 2039),\n",
       " ('Average Credit Card Transaction', dtype('float64'), 1411),\n",
       " ('Balance Transfer', dtype('float64'), 2183),\n",
       " ('Term Deposit', dtype('float64'), 1419),\n",
       " ('Life Insurance', dtype('float64'), 3111),\n",
       " ('Medical Insurance', dtype('float64'), 1589),\n",
       " ('Average A/C Balance', dtype('float64'), 2223),\n",
       " ('Personal Loan', dtype('float64'), 1760),\n",
       " ('Investment in Mutual Fund', dtype('float64'), 2470),\n",
       " ('Investment Tax Saving Bond', dtype('float64'), 832),\n",
       " ('Home Loan', dtype('float64'), 884),\n",
       " ('Online Purchase Amount', dtype('float64'), 1319),\n",
       " ('Revenue Grid', dtype('int64'), 2),\n",
       " ('gender', dtype('O'), 3),\n",
       " ('region', dtype('O'), 13),\n",
       " ('Investment in Commudity', dtype('float64'), 3558),\n",
       " ('Investment in Equity', dtype('float64'), 3250),\n",
       " ('Investment in Derivative', dtype('float64'), 3796),\n",
       " ('Portfolio Balance', dtype('float64'), 8317)]"
      ]
     },
     "execution_count": 120,
     "metadata": {},
     "output_type": "execute_result"
    }
   ],
   "source": [
    "list(zip(bd.columns,bd.dtypes,bd.nunique()))"
   ]
  },
  {
   "cell_type": "code",
   "execution_count": 126,
   "metadata": {},
   "outputs": [
    {
     "data": {
      "text/plain": [
       "0    6208\n",
       "1    1848\n",
       "2    1607\n",
       "3     473\n",
       "4      19\n",
       "Name: children, dtype: int64"
      ]
     },
     "execution_count": 126,
     "metadata": {},
     "output_type": "execute_result"
    }
   ],
   "source": [
    "bd['children'].value_counts()"
   ]
  },
  {
   "cell_type": "code",
   "execution_count": 127,
   "metadata": {},
   "outputs": [
    {
     "data": {
      "text/plain": [
       "dtype('int64')"
      ]
     },
     "execution_count": 127,
     "metadata": {},
     "output_type": "execute_result"
    }
   ],
   "source": [
    "bd['children'].dtype"
   ]
  },
  {
   "cell_type": "code",
   "execution_count": 123,
   "metadata": {},
   "outputs": [],
   "source": [
    "bd['children']=np.where(bd['children'].str[:4]=='Zero',0,bd['children'])"
   ]
  },
  {
   "cell_type": "code",
   "execution_count": 124,
   "metadata": {},
   "outputs": [],
   "source": [
    "bd['children']=np.where(bd['children'].str[:2]=='4+',4,bd['children'])"
   ]
  },
  {
   "cell_type": "code",
   "execution_count": 125,
   "metadata": {},
   "outputs": [],
   "source": [
    "bd['children']=pd.to_numeric(bd['children'],errors='coerce')"
   ]
  },
  {
   "cell_type": "code",
   "execution_count": 131,
   "metadata": {},
   "outputs": [
    {
     "data": {
      "text/plain": [
       "47.5    1359\n",
       "38.0    1134\n",
       "43.0    1112\n",
       "33.0    1061\n",
       "53.0    1052\n",
       "57.5    1047\n",
       "28.0     927\n",
       "63.0     881\n",
       "67.5     598\n",
       "23.5     456\n",
       "19.5      63\n",
       "Name: age, dtype: int64"
      ]
     },
     "execution_count": 131,
     "metadata": {},
     "output_type": "execute_result"
    }
   ],
   "source": [
    "bd['age'].value_counts()"
   ]
  },
  {
   "cell_type": "code",
   "execution_count": 128,
   "metadata": {},
   "outputs": [],
   "source": [
    "bd['age_band']=np.where(bd['age_band'].str[:3]=='71+',71,bd['age_band'])"
   ]
  },
  {
   "cell_type": "code",
   "execution_count": 129,
   "metadata": {},
   "outputs": [],
   "source": [
    "bd['age_band']=bd['age_band'].str.replace('Unknown','0')"
   ]
  },
  {
   "cell_type": "code",
   "execution_count": 130,
   "metadata": {},
   "outputs": [],
   "source": [
    "k=bd['age_band'].str.split('-',expand=True).astype(float)\n",
    "bd['age']=0.5*(k[0]+k[1])\n",
    "del bd['age_band']"
   ]
  },
  {
   "cell_type": "code",
   "execution_count": 132,
   "metadata": {
    "scrolled": true
   },
   "outputs": [
    {
     "data": {
      "text/html": [
       "<div>\n",
       "<style scoped>\n",
       "    .dataframe tbody tr th:only-of-type {\n",
       "        vertical-align: middle;\n",
       "    }\n",
       "\n",
       "    .dataframe tbody tr th {\n",
       "        vertical-align: top;\n",
       "    }\n",
       "\n",
       "    .dataframe thead th {\n",
       "        text-align: right;\n",
       "    }\n",
       "</style>\n",
       "<table border=\"1\" class=\"dataframe\">\n",
       "  <thead>\n",
       "    <tr style=\"text-align: right;\">\n",
       "      <th></th>\n",
       "      <th>REF_NO</th>\n",
       "      <th>children</th>\n",
       "      <th>status</th>\n",
       "      <th>occupation</th>\n",
       "      <th>occupation_partner</th>\n",
       "      <th>home_status</th>\n",
       "      <th>family_income</th>\n",
       "      <th>self_employed</th>\n",
       "      <th>self_employed_partner</th>\n",
       "      <th>year_last_moved</th>\n",
       "      <th>...</th>\n",
       "      <th>Home Loan</th>\n",
       "      <th>Online Purchase Amount</th>\n",
       "      <th>Revenue Grid</th>\n",
       "      <th>gender</th>\n",
       "      <th>region</th>\n",
       "      <th>Investment in Commudity</th>\n",
       "      <th>Investment in Equity</th>\n",
       "      <th>Investment in Derivative</th>\n",
       "      <th>Portfolio Balance</th>\n",
       "      <th>age</th>\n",
       "    </tr>\n",
       "  </thead>\n",
       "  <tbody>\n",
       "    <tr>\n",
       "      <th>0</th>\n",
       "      <td>1</td>\n",
       "      <td>0</td>\n",
       "      <td>Partner</td>\n",
       "      <td>Manual Worker</td>\n",
       "      <td>Secretarial/Admin</td>\n",
       "      <td>Own Home</td>\n",
       "      <td>&lt;17,500, &gt;=15,000</td>\n",
       "      <td>No</td>\n",
       "      <td>No</td>\n",
       "      <td>1972</td>\n",
       "      <td>...</td>\n",
       "      <td>0.00</td>\n",
       "      <td>0.00</td>\n",
       "      <td>1</td>\n",
       "      <td>Female</td>\n",
       "      <td>Wales</td>\n",
       "      <td>74.67</td>\n",
       "      <td>18.66</td>\n",
       "      <td>32.32</td>\n",
       "      <td>89.43</td>\n",
       "      <td>53.0</td>\n",
       "    </tr>\n",
       "    <tr>\n",
       "      <th>1</th>\n",
       "      <td>2</td>\n",
       "      <td>0</td>\n",
       "      <td>Single/Never Married</td>\n",
       "      <td>Retired</td>\n",
       "      <td>Retired</td>\n",
       "      <td>Own Home</td>\n",
       "      <td>&lt;27,500, &gt;=25,000</td>\n",
       "      <td>No</td>\n",
       "      <td>No</td>\n",
       "      <td>1998</td>\n",
       "      <td>...</td>\n",
       "      <td>0.00</td>\n",
       "      <td>0.00</td>\n",
       "      <td>2</td>\n",
       "      <td>Female</td>\n",
       "      <td>North West</td>\n",
       "      <td>20.19</td>\n",
       "      <td>0.00</td>\n",
       "      <td>4.33</td>\n",
       "      <td>22.78</td>\n",
       "      <td>57.5</td>\n",
       "    </tr>\n",
       "    <tr>\n",
       "      <th>2</th>\n",
       "      <td>3</td>\n",
       "      <td>0</td>\n",
       "      <td>Single/Never Married</td>\n",
       "      <td>Professional</td>\n",
       "      <td>Other</td>\n",
       "      <td>Own Home</td>\n",
       "      <td>&lt;30,000, &gt;=27,500</td>\n",
       "      <td>Yes</td>\n",
       "      <td>No</td>\n",
       "      <td>1996</td>\n",
       "      <td>...</td>\n",
       "      <td>3.49</td>\n",
       "      <td>0.00</td>\n",
       "      <td>2</td>\n",
       "      <td>Male</td>\n",
       "      <td>North</td>\n",
       "      <td>98.06</td>\n",
       "      <td>31.07</td>\n",
       "      <td>80.96</td>\n",
       "      <td>171.78</td>\n",
       "      <td>28.0</td>\n",
       "    </tr>\n",
       "    <tr>\n",
       "      <th>3</th>\n",
       "      <td>5</td>\n",
       "      <td>0</td>\n",
       "      <td>Single/Never Married</td>\n",
       "      <td>Professional</td>\n",
       "      <td>Manual Worker</td>\n",
       "      <td>Own Home</td>\n",
       "      <td>&lt;15,000, &gt;=12,500</td>\n",
       "      <td>No</td>\n",
       "      <td>No</td>\n",
       "      <td>1997</td>\n",
       "      <td>...</td>\n",
       "      <td>0.00</td>\n",
       "      <td>0.00</td>\n",
       "      <td>2</td>\n",
       "      <td>Female</td>\n",
       "      <td>West Midlands</td>\n",
       "      <td>4.10</td>\n",
       "      <td>14.15</td>\n",
       "      <td>17.57</td>\n",
       "      <td>-41.70</td>\n",
       "      <td>19.5</td>\n",
       "    </tr>\n",
       "    <tr>\n",
       "      <th>4</th>\n",
       "      <td>6</td>\n",
       "      <td>0</td>\n",
       "      <td>Partner</td>\n",
       "      <td>Business Manager</td>\n",
       "      <td>Unknown</td>\n",
       "      <td>Own Home</td>\n",
       "      <td>&lt;30,000, &gt;=27,500</td>\n",
       "      <td>No</td>\n",
       "      <td>No</td>\n",
       "      <td>1995</td>\n",
       "      <td>...</td>\n",
       "      <td>45.91</td>\n",
       "      <td>25.98</td>\n",
       "      <td>2</td>\n",
       "      <td>Female</td>\n",
       "      <td>Scotland</td>\n",
       "      <td>70.16</td>\n",
       "      <td>55.86</td>\n",
       "      <td>80.44</td>\n",
       "      <td>235.02</td>\n",
       "      <td>47.5</td>\n",
       "    </tr>\n",
       "  </tbody>\n",
       "</table>\n",
       "<p>5 rows × 32 columns</p>\n",
       "</div>"
      ],
      "text/plain": [
       "   REF_NO  children                status        occupation  \\\n",
       "0       1         0               Partner     Manual Worker   \n",
       "1       2         0  Single/Never Married           Retired   \n",
       "2       3         0  Single/Never Married      Professional   \n",
       "3       5         0  Single/Never Married      Professional   \n",
       "4       6         0               Partner  Business Manager   \n",
       "\n",
       "  occupation_partner home_status      family_income self_employed  \\\n",
       "0  Secretarial/Admin    Own Home  <17,500, >=15,000            No   \n",
       "1            Retired    Own Home  <27,500, >=25,000            No   \n",
       "2              Other    Own Home  <30,000, >=27,500           Yes   \n",
       "3      Manual Worker    Own Home  <15,000, >=12,500            No   \n",
       "4            Unknown    Own Home  <30,000, >=27,500            No   \n",
       "\n",
       "  self_employed_partner  year_last_moved  ...  Home Loan  \\\n",
       "0                    No             1972  ...       0.00   \n",
       "1                    No             1998  ...       0.00   \n",
       "2                    No             1996  ...       3.49   \n",
       "3                    No             1997  ...       0.00   \n",
       "4                    No             1995  ...      45.91   \n",
       "\n",
       "  Online Purchase Amount Revenue Grid  gender         region  \\\n",
       "0                   0.00            1  Female          Wales   \n",
       "1                   0.00            2  Female     North West   \n",
       "2                   0.00            2    Male          North   \n",
       "3                   0.00            2  Female  West Midlands   \n",
       "4                  25.98            2  Female       Scotland   \n",
       "\n",
       "   Investment in Commudity  Investment in Equity  Investment in Derivative  \\\n",
       "0                    74.67                 18.66                     32.32   \n",
       "1                    20.19                  0.00                      4.33   \n",
       "2                    98.06                 31.07                     80.96   \n",
       "3                     4.10                 14.15                     17.57   \n",
       "4                    70.16                 55.86                     80.44   \n",
       "\n",
       "   Portfolio Balance   age  \n",
       "0              89.43  53.0  \n",
       "1              22.78  57.5  \n",
       "2             171.78  28.0  \n",
       "3             -41.70  19.5  \n",
       "4             235.02  47.5  \n",
       "\n",
       "[5 rows x 32 columns]"
      ]
     },
     "execution_count": 132,
     "metadata": {},
     "output_type": "execute_result"
    }
   ],
   "source": [
    "bd.head()"
   ]
  },
  {
   "cell_type": "code",
   "execution_count": 140,
   "metadata": {
    "scrolled": true
   },
   "outputs": [
    {
     "data": {
      "text/plain": [
       "35000            2517\n",
       "<27500>=25000    1227\n",
       "<30000>=27500     994\n",
       "<25000>=22500     833\n",
       "<20000>=17500     683\n",
       "<12500>=10000     677\n",
       "<17500>=15000     634\n",
       "<15000>=12500     629\n",
       "<22500>=20000     590\n",
       "<10000>=8000      563\n",
       "<8000>=4000       402\n",
       "<4000             278\n",
       "1                 128\n",
       "Name: family_income, dtype: int64"
      ]
     },
     "execution_count": 140,
     "metadata": {},
     "output_type": "execute_result"
    }
   ],
   "source": [
    "bd['family_income'].value_counts()"
   ]
  },
  {
   "cell_type": "code",
   "execution_count": 73,
   "metadata": {},
   "outputs": [],
   "source": [
    "bd['family_income']=np.where(bd['family_income'].str[:7]==0,1,bd['family_income'])"
   ]
  },
  {
   "cell_type": "code",
   "execution_count": 136,
   "metadata": {},
   "outputs": [],
   "source": [
    "bd['family_income']=bd['family_income'].str.replace(',','')"
   ]
  },
  {
   "cell_type": "code",
   "execution_count": 134,
   "metadata": {},
   "outputs": [],
   "source": [
    "bd['family_income']=bd['family_income'].str.replace('Unknown','1')"
   ]
  },
  {
   "cell_type": "code",
   "execution_count": 137,
   "metadata": {},
   "outputs": [],
   "source": [
    "bd['family_income']=bd['family_income'].str.replace(' ','')"
   ]
  },
  {
   "cell_type": "code",
   "execution_count": 78,
   "metadata": {},
   "outputs": [],
   "source": [
    "bd['family_income']=bd['family_income'].str.replace('>=35000','35000')"
   ]
  },
  {
   "cell_type": "code",
   "execution_count": 145,
   "metadata": {},
   "outputs": [],
   "source": [
    "bd['family_income']=bd['family_income'].str.replace('<30000>=27500','28750')"
   ]
  },
  {
   "cell_type": "code",
   "execution_count": 147,
   "metadata": {},
   "outputs": [],
   "source": [
    "bd['family_income']=bd['family_income'].str.replace('<25000>=22500','23750')"
   ]
  },
  {
   "cell_type": "code",
   "execution_count": 149,
   "metadata": {},
   "outputs": [],
   "source": [
    "bd['family_income']=bd['family_income'].str.replace('<20000>=17500','18750')"
   ]
  },
  {
   "cell_type": "code",
   "execution_count": null,
   "metadata": {},
   "outputs": [],
   "source": [
    "bd['family_income']=bd['family_income'].str.replace('<12500>=10000','23750')"
   ]
  },
  {
   "cell_type": "code",
   "execution_count": 151,
   "metadata": {},
   "outputs": [],
   "source": [
    "bd['family_income']=bd['family_income'].str.replace('<12500>=10000','11250')"
   ]
  },
  {
   "cell_type": "code",
   "execution_count": 153,
   "metadata": {},
   "outputs": [],
   "source": [
    "bd['family_income']=bd['family_income'].str.replace('<17500>=15000','16250')"
   ]
  },
  {
   "cell_type": "code",
   "execution_count": 155,
   "metadata": {},
   "outputs": [],
   "source": [
    "bd['family_income']=bd['family_income'].str.replace('<15000>=12500','13750')"
   ]
  },
  {
   "cell_type": "code",
   "execution_count": 157,
   "metadata": {},
   "outputs": [],
   "source": [
    "bd['family_income']=bd['family_income'].str.replace('<22500>=20000','21250')"
   ]
  },
  {
   "cell_type": "code",
   "execution_count": 159,
   "metadata": {},
   "outputs": [],
   "source": [
    "bd['family_income']=bd['family_income'].str.replace('<10000>=8000','9000')"
   ]
  },
  {
   "cell_type": "code",
   "execution_count": 163,
   "metadata": {},
   "outputs": [],
   "source": [
    "bd['family_income']=bd['family_income'].str.replace('<8000>=4000','6000')"
   ]
  },
  {
   "cell_type": "code",
   "execution_count": 164,
   "metadata": {},
   "outputs": [],
   "source": [
    "bd['family_income']=bd['family_income'].str.replace('<4000','4000')"
   ]
  },
  {
   "cell_type": "code",
   "execution_count": 167,
   "metadata": {},
   "outputs": [
    {
     "data": {
      "text/plain": [
       "35000    2517\n",
       "26250    1227\n",
       "28750     994\n",
       "23750     833\n",
       "18750     683\n",
       "11250     677\n",
       "16250     634\n",
       "13750     629\n",
       "21250     590\n",
       "9000      563\n",
       "6000      402\n",
       "4000      278\n",
       "1         128\n",
       "Name: family_income, dtype: int64"
      ]
     },
     "execution_count": 167,
     "metadata": {},
     "output_type": "execute_result"
    }
   ],
   "source": [
    "bd['family_income'].value_counts()"
   ]
  },
  {
   "cell_type": "code",
   "execution_count": 168,
   "metadata": {},
   "outputs": [],
   "source": [
    "bd.drop(['REF_NO','post_code','post_area'],axis=1,inplace=True)"
   ]
  },
  {
   "cell_type": "code",
   "execution_count": 166,
   "metadata": {},
   "outputs": [],
   "source": [
    "bd['family_income']=pd.to_numeric(bd['family_income'],errors='coerce')"
   ]
  },
  {
   "cell_type": "code",
   "execution_count": 181,
   "metadata": {},
   "outputs": [
    {
     "data": {
      "text/plain": [
       "35000    2517\n",
       "26250    1227\n",
       "28750     994\n",
       "23750     833\n",
       "18750     683\n",
       "11250     677\n",
       "16250     634\n",
       "13750     629\n",
       "21250     590\n",
       "9000      563\n",
       "6000      402\n",
       "4000      278\n",
       "1         128\n",
       "Name: family_income, dtype: int64"
      ]
     },
     "execution_count": 181,
     "metadata": {},
     "output_type": "execute_result"
    }
   ],
   "source": [
    "bd['family_income'].value_counts()"
   ]
  },
  {
   "cell_type": "code",
   "execution_count": 171,
   "metadata": {},
   "outputs": [
    {
     "data": {
      "text/plain": [
       "0    9069\n",
       "1    1086\n",
       "Name: Revenue Grid, dtype: int64"
      ]
     },
     "execution_count": 171,
     "metadata": {},
     "output_type": "execute_result"
    }
   ],
   "source": [
    "bd['Revenue Grid'].value_counts()"
   ]
  },
  {
   "cell_type": "code",
   "execution_count": 170,
   "metadata": {},
   "outputs": [],
   "source": [
    "bd['Revenue Grid']=bd['Revenue Grid'].replace(2,0)"
   ]
  },
  {
   "cell_type": "code",
   "execution_count": 172,
   "metadata": {},
   "outputs": [
    {
     "data": {
      "text/plain": [
       "Index(['status', 'occupation', 'occupation_partner', 'home_status',\n",
       "       'self_employed', 'self_employed_partner', 'TVarea', 'gender', 'region'],\n",
       "      dtype='object')"
      ]
     },
     "execution_count": 172,
     "metadata": {},
     "output_type": "execute_result"
    }
   ],
   "source": [
    "cat_var=bd.select_dtypes(['object']).columns\n",
    "cat_var"
   ]
  },
  {
   "cell_type": "code",
   "execution_count": 173,
   "metadata": {},
   "outputs": [
    {
     "name": "stdout",
     "output_type": "stream",
     "text": [
      "status\n",
      "occupation\n",
      "occupation_partner\n",
      "home_status\n",
      "self_employed\n",
      "self_employed_partner\n",
      "TVarea\n",
      "gender\n",
      "region\n"
     ]
    },
    {
     "data": {
      "text/plain": [
       "(10155, 73)"
      ]
     },
     "execution_count": 173,
     "metadata": {},
     "output_type": "execute_result"
    }
   ],
   "source": [
    "for col in cat_var:\n",
    "    dummy=pd.get_dummies(bd[col],drop_first=True,prefix=col)\n",
    "    bd=pd.concat([bd,dummy],axis=1)\n",
    "    del bd[col]\n",
    "    print(col)\n",
    "del dummy\n",
    "bd.shape"
   ]
  },
  {
   "cell_type": "code",
   "execution_count": 174,
   "metadata": {},
   "outputs": [
    {
     "data": {
      "text/plain": [
       "0    6208\n",
       "1    1848\n",
       "2    1607\n",
       "3     473\n",
       "4      19\n",
       "Name: children, dtype: int64"
      ]
     },
     "execution_count": 174,
     "metadata": {},
     "output_type": "execute_result"
    }
   ],
   "source": [
    "bd['children'].value_counts()"
   ]
  },
  {
   "cell_type": "code",
   "execution_count": 184,
   "metadata": {},
   "outputs": [],
   "source": [
    "for col in bd.columns:\n",
    "    if (bd[col].isnull().sum()>0):\n",
    "        print(col)"
   ]
  },
  {
   "cell_type": "code",
   "execution_count": 183,
   "metadata": {},
   "outputs": [],
   "source": [
    "for col in bd.columns:\n",
    "    if (bd[col].isnull().sum()>0):\n",
    "        bd.loc[bd[col].isnull(),col]=0.01"
   ]
  },
  {
   "cell_type": "code",
   "execution_count": 185,
   "metadata": {},
   "outputs": [
    {
     "data": {
      "text/plain": [
       "Index(['children', 'family_income', 'year_last_moved',\n",
       "       'Average Credit Card Transaction', 'Balance Transfer', 'Term Deposit',\n",
       "       'Life Insurance', 'Medical Insurance', 'Average A/C Balance',\n",
       "       'Personal Loan', 'Investment in Mutual Fund',\n",
       "       'Investment Tax Saving Bond', 'Home Loan', 'Online Purchase Amount',\n",
       "       'Revenue Grid', 'Investment in Commudity', 'Investment in Equity',\n",
       "       'Investment in Derivative', 'Portfolio Balance', 'age',\n",
       "       'status_Partner', 'status_Single/Never Married', 'status_Unknown',\n",
       "       'status_Widowed', 'occupation_Housewife', 'occupation_Manual Worker',\n",
       "       'occupation_Other', 'occupation_Professional', 'occupation_Retired',\n",
       "       'occupation_Secretarial/Admin', 'occupation_Student',\n",
       "       'occupation_Unknown', 'occupation_partner_Housewife',\n",
       "       'occupation_partner_Manual Worker', 'occupation_partner_Other',\n",
       "       'occupation_partner_Professional', 'occupation_partner_Retired',\n",
       "       'occupation_partner_Secretarial/Admin', 'occupation_partner_Student',\n",
       "       'occupation_partner_Unknown', 'home_status_Own Home',\n",
       "       'home_status_Rent Privately', 'home_status_Rent from Council/HA',\n",
       "       'home_status_Unclassified', 'self_employed_Yes',\n",
       "       'self_employed_partner_Yes', 'TVarea_Border', 'TVarea_Carlton',\n",
       "       'TVarea_Central', 'TVarea_Grampian', 'TVarea_Granada', 'TVarea_HTV',\n",
       "       'TVarea_Meridian', 'TVarea_Scottish TV', 'TVarea_TV South West',\n",
       "       'TVarea_Tyne Tees', 'TVarea_Ulster', 'TVarea_Unknown',\n",
       "       'TVarea_Yorkshire', 'gender_Male', 'gender_Unknown',\n",
       "       'region_East Anglia', 'region_East Midlands', 'region_Isle of Man',\n",
       "       'region_North', 'region_North West', 'region_Northern Ireland',\n",
       "       'region_Scotland', 'region_South East', 'region_South West',\n",
       "       'region_Unknown', 'region_Wales', 'region_West Midlands'],\n",
       "      dtype='object')"
      ]
     },
     "execution_count": 185,
     "metadata": {},
     "output_type": "execute_result"
    }
   ],
   "source": [
    "bd.columns"
   ]
  },
  {
   "cell_type": "code",
   "execution_count": 186,
   "metadata": {},
   "outputs": [
    {
     "data": {
      "text/plain": [
       "(10155, 73)"
      ]
     },
     "execution_count": 186,
     "metadata": {},
     "output_type": "execute_result"
    }
   ],
   "source": [
    "bd.shape"
   ]
  },
  {
   "cell_type": "code",
   "execution_count": 187,
   "metadata": {},
   "outputs": [],
   "source": [
    "from sklearn.model_selection import train_test_split"
   ]
  },
  {
   "cell_type": "code",
   "execution_count": 188,
   "metadata": {},
   "outputs": [],
   "source": [
    "bd_train,bd_test=train_test_split(bd,test_size=0.2,random_state=2)"
   ]
  },
  {
   "cell_type": "code",
   "execution_count": 189,
   "metadata": {},
   "outputs": [],
   "source": [
    "from sklearn.linear_model import LogisticRegression\n",
    "from sklearn.metrics import roc_auc_score"
   ]
  },
  {
   "cell_type": "code",
   "execution_count": 190,
   "metadata": {},
   "outputs": [],
   "source": [
    "logr=LogisticRegression(class_weight='balanced')"
   ]
  },
  {
   "cell_type": "code",
   "execution_count": 194,
   "metadata": {},
   "outputs": [],
   "source": [
    "x_train=bd_train.drop(['Revenue Grid'],axis=1)\n",
    "y_train=bd_train['Revenue Grid']\n",
    "x_test=bd_test.drop(['Revenue Grid'],axis=1)\n",
    "y_test=bd_test[\"Revenue Grid\"]"
   ]
  },
  {
   "cell_type": "code",
   "execution_count": 196,
   "metadata": {},
   "outputs": [
    {
     "data": {
      "text/plain": [
       "LogisticRegression(C=1.0, class_weight='balanced', dual=False,\n",
       "          fit_intercept=True, intercept_scaling=1, max_iter=100,\n",
       "          multi_class='ovr', n_jobs=1, penalty='l2', random_state=None,\n",
       "          solver='liblinear', tol=0.0001, verbose=0, warm_start=False)"
      ]
     },
     "execution_count": 196,
     "metadata": {},
     "output_type": "execute_result"
    }
   ],
   "source": [
    "logr.fit(x_train,y_train)"
   ]
  },
  {
   "cell_type": "code",
   "execution_count": 197,
   "metadata": {},
   "outputs": [
    {
     "data": {
      "text/plain": [
       "array([0, 0, 0, ..., 1, 1, 0], dtype=int64)"
      ]
     },
     "execution_count": 197,
     "metadata": {},
     "output_type": "execute_result"
    }
   ],
   "source": [
    "logr.predict(x_test)"
   ]
  },
  {
   "cell_type": "code",
   "execution_count": 198,
   "metadata": {},
   "outputs": [
    {
     "data": {
      "text/plain": [
       "array([[0.97351629, 0.02648371],\n",
       "       [0.93985142, 0.06014858],\n",
       "       [0.92628942, 0.07371058],\n",
       "       ...,\n",
       "       [0.11758804, 0.88241196],\n",
       "       [0.16470626, 0.83529374],\n",
       "       [0.93744239, 0.06255761]])"
      ]
     },
     "execution_count": 198,
     "metadata": {},
     "output_type": "execute_result"
    }
   ],
   "source": [
    "logr.predict_proba(x_test)"
   ]
  },
  {
   "cell_type": "code",
   "execution_count": 199,
   "metadata": {},
   "outputs": [
    {
     "data": {
      "text/plain": [
       "array([0, 1], dtype=int64)"
      ]
     },
     "execution_count": 199,
     "metadata": {},
     "output_type": "execute_result"
    }
   ],
   "source": [
    "logr.classes_"
   ]
  },
  {
   "cell_type": "code",
   "execution_count": 200,
   "metadata": {},
   "outputs": [],
   "source": [
    " predicted_probs=logr.predict_proba(x_test)[:,1]"
   ]
  },
  {
   "cell_type": "code",
   "execution_count": 201,
   "metadata": {},
   "outputs": [
    {
     "data": {
      "text/plain": [
       "array([0.02648371, 0.06014858, 0.07371058, ..., 0.88241196, 0.83529374,\n",
       "       0.06255761])"
      ]
     },
     "execution_count": 201,
     "metadata": {},
     "output_type": "execute_result"
    }
   ],
   "source": [
    "predicted_probs"
   ]
  },
  {
   "cell_type": "code",
   "execution_count": 202,
   "metadata": {},
   "outputs": [
    {
     "data": {
      "text/plain": [
       "0.9477601984346589"
      ]
     },
     "execution_count": 202,
     "metadata": {},
     "output_type": "execute_result"
    }
   ],
   "source": [
    "roc_auc_score(y_test,predicted_probs)"
   ]
  },
  {
   "cell_type": "code",
   "execution_count": 284,
   "metadata": {},
   "outputs": [
    {
     "data": {
      "text/plain": [
       "array([0.424     , 0.42400401, 0.42400802, 0.42401202, 0.42401603,\n",
       "       0.42402004, 0.42402405, 0.42402806, 0.42403206, 0.42403607,\n",
       "       0.42404008, 0.42404409, 0.4240481 , 0.4240521 , 0.42405611,\n",
       "       0.42406012, 0.42406413, 0.42406814, 0.42407214, 0.42407615,\n",
       "       0.42408016, 0.42408417, 0.42408818, 0.42409218, 0.42409619,\n",
       "       0.4241002 , 0.42410421, 0.42410822, 0.42411222, 0.42411623,\n",
       "       0.42412024, 0.42412425, 0.42412826, 0.42413226, 0.42413627,\n",
       "       0.42414028, 0.42414429, 0.4241483 , 0.4241523 , 0.42415631,\n",
       "       0.42416032, 0.42416433, 0.42416834, 0.42417234, 0.42417635,\n",
       "       0.42418036, 0.42418437, 0.42418838, 0.42419238, 0.42419639,\n",
       "       0.4242004 , 0.42420441, 0.42420842, 0.42421242, 0.42421643,\n",
       "       0.42422044, 0.42422445, 0.42422846, 0.42423246, 0.42423647,\n",
       "       0.42424048, 0.42424449, 0.4242485 , 0.42425251, 0.42425651,\n",
       "       0.42426052, 0.42426453, 0.42426854, 0.42427255, 0.42427655,\n",
       "       0.42428056, 0.42428457, 0.42428858, 0.42429259, 0.42429659,\n",
       "       0.4243006 , 0.42430461, 0.42430862, 0.42431263, 0.42431663,\n",
       "       0.42432064, 0.42432465, 0.42432866, 0.42433267, 0.42433667,\n",
       "       0.42434068, 0.42434469, 0.4243487 , 0.42435271, 0.42435671,\n",
       "       0.42436072, 0.42436473, 0.42436874, 0.42437275, 0.42437675,\n",
       "       0.42438076, 0.42438477, 0.42438878, 0.42439279, 0.42439679,\n",
       "       0.4244008 , 0.42440481, 0.42440882, 0.42441283, 0.42441683,\n",
       "       0.42442084, 0.42442485, 0.42442886, 0.42443287, 0.42443687,\n",
       "       0.42444088, 0.42444489, 0.4244489 , 0.42445291, 0.42445691,\n",
       "       0.42446092, 0.42446493, 0.42446894, 0.42447295, 0.42447695,\n",
       "       0.42448096, 0.42448497, 0.42448898, 0.42449299, 0.42449699,\n",
       "       0.424501  , 0.42450501, 0.42450902, 0.42451303, 0.42451703,\n",
       "       0.42452104, 0.42452505, 0.42452906, 0.42453307, 0.42453707,\n",
       "       0.42454108, 0.42454509, 0.4245491 , 0.42455311, 0.42455711,\n",
       "       0.42456112, 0.42456513, 0.42456914, 0.42457315, 0.42457715,\n",
       "       0.42458116, 0.42458517, 0.42458918, 0.42459319, 0.42459719,\n",
       "       0.4246012 , 0.42460521, 0.42460922, 0.42461323, 0.42461723,\n",
       "       0.42462124, 0.42462525, 0.42462926, 0.42463327, 0.42463727,\n",
       "       0.42464128, 0.42464529, 0.4246493 , 0.42465331, 0.42465731,\n",
       "       0.42466132, 0.42466533, 0.42466934, 0.42467335, 0.42467735,\n",
       "       0.42468136, 0.42468537, 0.42468938, 0.42469339, 0.42469739,\n",
       "       0.4247014 , 0.42470541, 0.42470942, 0.42471343, 0.42471743,\n",
       "       0.42472144, 0.42472545, 0.42472946, 0.42473347, 0.42473747,\n",
       "       0.42474148, 0.42474549, 0.4247495 , 0.42475351, 0.42475752,\n",
       "       0.42476152, 0.42476553, 0.42476954, 0.42477355, 0.42477756,\n",
       "       0.42478156, 0.42478557, 0.42478958, 0.42479359, 0.4247976 ,\n",
       "       0.4248016 , 0.42480561, 0.42480962, 0.42481363, 0.42481764,\n",
       "       0.42482164, 0.42482565, 0.42482966, 0.42483367, 0.42483768,\n",
       "       0.42484168, 0.42484569, 0.4248497 , 0.42485371, 0.42485772,\n",
       "       0.42486172, 0.42486573, 0.42486974, 0.42487375, 0.42487776,\n",
       "       0.42488176, 0.42488577, 0.42488978, 0.42489379, 0.4248978 ,\n",
       "       0.4249018 , 0.42490581, 0.42490982, 0.42491383, 0.42491784,\n",
       "       0.42492184, 0.42492585, 0.42492986, 0.42493387, 0.42493788,\n",
       "       0.42494188, 0.42494589, 0.4249499 , 0.42495391, 0.42495792,\n",
       "       0.42496192, 0.42496593, 0.42496994, 0.42497395, 0.42497796,\n",
       "       0.42498196, 0.42498597, 0.42498998, 0.42499399, 0.424998  ,\n",
       "       0.425002  , 0.42500601, 0.42501002, 0.42501403, 0.42501804,\n",
       "       0.42502204, 0.42502605, 0.42503006, 0.42503407, 0.42503808,\n",
       "       0.42504208, 0.42504609, 0.4250501 , 0.42505411, 0.42505812,\n",
       "       0.42506212, 0.42506613, 0.42507014, 0.42507415, 0.42507816,\n",
       "       0.42508216, 0.42508617, 0.42509018, 0.42509419, 0.4250982 ,\n",
       "       0.4251022 , 0.42510621, 0.42511022, 0.42511423, 0.42511824,\n",
       "       0.42512224, 0.42512625, 0.42513026, 0.42513427, 0.42513828,\n",
       "       0.42514228, 0.42514629, 0.4251503 , 0.42515431, 0.42515832,\n",
       "       0.42516232, 0.42516633, 0.42517034, 0.42517435, 0.42517836,\n",
       "       0.42518236, 0.42518637, 0.42519038, 0.42519439, 0.4251984 ,\n",
       "       0.4252024 , 0.42520641, 0.42521042, 0.42521443, 0.42521844,\n",
       "       0.42522244, 0.42522645, 0.42523046, 0.42523447, 0.42523848,\n",
       "       0.42524248, 0.42524649, 0.4252505 , 0.42525451, 0.42525852,\n",
       "       0.42526253, 0.42526653, 0.42527054, 0.42527455, 0.42527856,\n",
       "       0.42528257, 0.42528657, 0.42529058, 0.42529459, 0.4252986 ,\n",
       "       0.42530261, 0.42530661, 0.42531062, 0.42531463, 0.42531864,\n",
       "       0.42532265, 0.42532665, 0.42533066, 0.42533467, 0.42533868,\n",
       "       0.42534269, 0.42534669, 0.4253507 , 0.42535471, 0.42535872,\n",
       "       0.42536273, 0.42536673, 0.42537074, 0.42537475, 0.42537876,\n",
       "       0.42538277, 0.42538677, 0.42539078, 0.42539479, 0.4253988 ,\n",
       "       0.42540281, 0.42540681, 0.42541082, 0.42541483, 0.42541884,\n",
       "       0.42542285, 0.42542685, 0.42543086, 0.42543487, 0.42543888,\n",
       "       0.42544289, 0.42544689, 0.4254509 , 0.42545491, 0.42545892,\n",
       "       0.42546293, 0.42546693, 0.42547094, 0.42547495, 0.42547896,\n",
       "       0.42548297, 0.42548697, 0.42549098, 0.42549499, 0.425499  ,\n",
       "       0.42550301, 0.42550701, 0.42551102, 0.42551503, 0.42551904,\n",
       "       0.42552305, 0.42552705, 0.42553106, 0.42553507, 0.42553908,\n",
       "       0.42554309, 0.42554709, 0.4255511 , 0.42555511, 0.42555912,\n",
       "       0.42556313, 0.42556713, 0.42557114, 0.42557515, 0.42557916,\n",
       "       0.42558317, 0.42558717, 0.42559118, 0.42559519, 0.4255992 ,\n",
       "       0.42560321, 0.42560721, 0.42561122, 0.42561523, 0.42561924,\n",
       "       0.42562325, 0.42562725, 0.42563126, 0.42563527, 0.42563928,\n",
       "       0.42564329, 0.42564729, 0.4256513 , 0.42565531, 0.42565932,\n",
       "       0.42566333, 0.42566733, 0.42567134, 0.42567535, 0.42567936,\n",
       "       0.42568337, 0.42568737, 0.42569138, 0.42569539, 0.4256994 ,\n",
       "       0.42570341, 0.42570741, 0.42571142, 0.42571543, 0.42571944,\n",
       "       0.42572345, 0.42572745, 0.42573146, 0.42573547, 0.42573948,\n",
       "       0.42574349, 0.42574749, 0.4257515 , 0.42575551, 0.42575952,\n",
       "       0.42576353, 0.42576754, 0.42577154, 0.42577555, 0.42577956,\n",
       "       0.42578357, 0.42578758, 0.42579158, 0.42579559, 0.4257996 ,\n",
       "       0.42580361, 0.42580762, 0.42581162, 0.42581563, 0.42581964,\n",
       "       0.42582365, 0.42582766, 0.42583166, 0.42583567, 0.42583968,\n",
       "       0.42584369, 0.4258477 , 0.4258517 , 0.42585571, 0.42585972,\n",
       "       0.42586373, 0.42586774, 0.42587174, 0.42587575, 0.42587976,\n",
       "       0.42588377, 0.42588778, 0.42589178, 0.42589579, 0.4258998 ,\n",
       "       0.42590381, 0.42590782, 0.42591182, 0.42591583, 0.42591984,\n",
       "       0.42592385, 0.42592786, 0.42593186, 0.42593587, 0.42593988,\n",
       "       0.42594389, 0.4259479 , 0.4259519 , 0.42595591, 0.42595992,\n",
       "       0.42596393, 0.42596794, 0.42597194, 0.42597595, 0.42597996,\n",
       "       0.42598397, 0.42598798, 0.42599198, 0.42599599, 0.426     ])"
      ]
     },
     "execution_count": 284,
     "metadata": {},
     "output_type": "execute_result"
    }
   ],
   "source": [
    "cutoffs=np.linspace(0.424,0.426,500)\n",
    "cutoffs"
   ]
  },
  {
   "cell_type": "code",
   "execution_count": 285,
   "metadata": {},
   "outputs": [],
   "source": [
    "train_score=logr.predict_proba(x_train)[:,1]\n",
    "real=y_train"
   ]
  },
  {
   "cell_type": "code",
   "execution_count": 286,
   "metadata": {},
   "outputs": [],
   "source": [
    "KS_all=[]\n",
    "\n",
    "for cutoff in cutoffs:\n",
    "    \n",
    "    predicted=(train_score>cutoff).astype(int)\n",
    "    \n",
    "    TP=((predicted==1) & (real==1)).sum()\n",
    "    TN=((predicted==0) & (real==0)).sum()\n",
    "    FP=((predicted==1) & (real==0)).sum()\n",
    "    FN=((predicted==0) & (real==1)).sum()\n",
    "    \n",
    "    P=TP+FN\n",
    "    N=TN+FP\n",
    "    KS=(TP/P)-(FP/N)\n",
    "    KS_all.append(KS)"
   ]
  },
  {
   "cell_type": "code",
   "execution_count": 287,
   "metadata": {},
   "outputs": [
    {
     "data": {
      "text/plain": [
       "array([0.42457315, 0.42457715, 0.42458116, 0.42458517, 0.42458918,\n",
       "       0.42459319, 0.42459719, 0.4246012 , 0.42460521, 0.42460922,\n",
       "       0.42461323, 0.42461723, 0.42462124, 0.42462525, 0.42462926,\n",
       "       0.42463327, 0.42463727, 0.42464128, 0.42464529, 0.4246493 ,\n",
       "       0.42465331, 0.42465731, 0.42466132, 0.42466533, 0.42466934,\n",
       "       0.42467335, 0.42467735, 0.42468136, 0.42468537, 0.42468938,\n",
       "       0.42469339, 0.42469739, 0.4247014 , 0.42470541, 0.42470942,\n",
       "       0.42471343, 0.42471743, 0.42472144, 0.42472545, 0.42472946,\n",
       "       0.42473347, 0.42473747, 0.42474148, 0.42474549, 0.4247495 ,\n",
       "       0.42475351, 0.42475752, 0.42476152, 0.42476553, 0.42476954,\n",
       "       0.42477355, 0.42477756, 0.42478156, 0.42478557, 0.42478958,\n",
       "       0.42479359, 0.4247976 , 0.4248016 , 0.42480561, 0.42480962,\n",
       "       0.42481363, 0.42481764, 0.42482164, 0.42482565, 0.42482966,\n",
       "       0.42483367, 0.42483768, 0.42484168, 0.42484569, 0.4248497 ,\n",
       "       0.42485371, 0.42485772, 0.42486172, 0.42486573, 0.42486974,\n",
       "       0.42487375, 0.42487776, 0.42488176, 0.42488577, 0.42488978,\n",
       "       0.42489379, 0.4248978 , 0.4249018 , 0.42490581, 0.42490982,\n",
       "       0.42491383, 0.42491784, 0.42492184, 0.42492585, 0.42492986,\n",
       "       0.42493387, 0.42493788, 0.42494188, 0.42494589, 0.4249499 ,\n",
       "       0.42495391, 0.42495792, 0.42496192, 0.42496593, 0.42496994,\n",
       "       0.42497395, 0.42497796, 0.42498196, 0.42498597, 0.42498998,\n",
       "       0.42499399, 0.424998  , 0.425002  , 0.42500601, 0.42501002,\n",
       "       0.42501403, 0.42501804, 0.42502204, 0.42502605, 0.42503006,\n",
       "       0.42503407, 0.42503808, 0.42504208, 0.42504609, 0.4250501 ,\n",
       "       0.42505411, 0.42505812, 0.42506212, 0.42506613, 0.42507014,\n",
       "       0.42507415, 0.42507816, 0.42508216, 0.42508617, 0.42509018,\n",
       "       0.42509419, 0.4250982 , 0.4251022 , 0.42510621, 0.42511022,\n",
       "       0.42511423, 0.42511824, 0.42512224, 0.42512625, 0.42513026,\n",
       "       0.42513427, 0.42513828, 0.42514228, 0.42514629, 0.4251503 ,\n",
       "       0.42515431, 0.42515832, 0.42516232, 0.42516633, 0.42517034,\n",
       "       0.42517435, 0.42517836, 0.42518236, 0.42518637, 0.42519038,\n",
       "       0.42519439, 0.4251984 , 0.4252024 , 0.42520641, 0.42521042,\n",
       "       0.42521443, 0.42521844, 0.42522244, 0.42522645, 0.42523046,\n",
       "       0.42523447, 0.42523848, 0.42524248, 0.42524649, 0.4252505 ,\n",
       "       0.42525451, 0.42525852, 0.42526253, 0.42526653, 0.42527054,\n",
       "       0.42527455, 0.42527856, 0.42528257, 0.42528657, 0.42529058,\n",
       "       0.42529459, 0.4252986 , 0.42530261, 0.42530661, 0.42531062,\n",
       "       0.42531463, 0.42531864, 0.42532265, 0.42532665, 0.42533066,\n",
       "       0.42533467, 0.42533868, 0.42534269, 0.42534669, 0.4253507 ,\n",
       "       0.42535471, 0.42535872, 0.42536273, 0.42536673, 0.42537074,\n",
       "       0.42537475, 0.42537876, 0.42538277, 0.42538677, 0.42539078,\n",
       "       0.42539479, 0.4253988 , 0.42540281, 0.42540681, 0.42541082,\n",
       "       0.42541483, 0.42541884, 0.42542285, 0.42542685, 0.42543086,\n",
       "       0.42543487, 0.42543888, 0.42544289, 0.42544689, 0.4254509 ,\n",
       "       0.42545491, 0.42545892, 0.42546293, 0.42546693, 0.42547094,\n",
       "       0.42547495, 0.42547896, 0.42548297, 0.42548697, 0.42549098,\n",
       "       0.42549499, 0.425499  , 0.42550301, 0.42550701, 0.42551102,\n",
       "       0.42551503, 0.42551904, 0.42552305, 0.42552705, 0.42553106,\n",
       "       0.42553507, 0.42553908])"
      ]
     },
     "execution_count": 287,
     "metadata": {},
     "output_type": "execute_result"
    }
   ],
   "source": [
    "cutoffs[KS_all==max(KS_all)]"
   ]
  },
  {
   "cell_type": "code",
   "execution_count": 288,
   "metadata": {},
   "outputs": [
    {
     "data": {
      "text/plain": [
       "[('children', -0.010324629204762575),\n",
       " ('family_income', 4.814922892848107e-06),\n",
       " ('year_last_moved', -0.000281548485429019),\n",
       " ('Average Credit Card Transaction', 0.022673922651934304),\n",
       " ('Balance Transfer', -0.005877311500203519),\n",
       " ('Term Deposit', -0.019230409767173752),\n",
       " ('Life Insurance', 0.007839554816935834),\n",
       " ('Medical Insurance', -0.01790786908679223),\n",
       " ('Average A/C Balance', -0.00897550550529398),\n",
       " ('Personal Loan', -0.0391897495335612),\n",
       " ('Investment in Mutual Fund', -0.007331343855521319),\n",
       " ('Investment Tax Saving Bond', 0.08460992480653223),\n",
       " ('Home Loan', -0.08210593279242014),\n",
       " ('Online Purchase Amount', 0.056456642927178814),\n",
       " ('Investment in Commudity', 0.003185228528989444),\n",
       " ('Investment in Equity', 0.004511522766209585),\n",
       " ('Investment in Derivative', 0.03906065476324745),\n",
       " ('Portfolio Balance', -0.00023217989177703658),\n",
       " ('age', -0.005474649878799067),\n",
       " ('status_Partner', 0.13910163100605255),\n",
       " ('status_Single/Never Married', -0.12635750095008508),\n",
       " ('status_Unknown', 0.17301788098499435),\n",
       " ('status_Widowed', -0.47883094086140554),\n",
       " ('occupation_Housewife', -0.2714314710587472),\n",
       " ('occupation_Manual Worker', 0.14783715097994415),\n",
       " ('occupation_Other', 0.00453780570856936),\n",
       " ('occupation_Professional', -0.25230660463772947),\n",
       " ('occupation_Retired', -0.2392283757151324),\n",
       " ('occupation_Secretarial/Admin', -0.327997600170408),\n",
       " ('occupation_Student', -0.07008743757419682),\n",
       " ('occupation_Unknown', -0.22085015885269307),\n",
       " ('occupation_partner_Housewife', -0.37977845421280715),\n",
       " ('occupation_partner_Manual Worker', 0.09871340916152964),\n",
       " ('occupation_partner_Other', 0.09000782767106504),\n",
       " ('occupation_partner_Professional', 0.07181797042538644),\n",
       " ('occupation_partner_Retired', -0.06401958567476299),\n",
       " ('occupation_partner_Secretarial/Admin', 0.018925989137372496),\n",
       " ('occupation_partner_Student', 0.44229236780810227),\n",
       " ('occupation_partner_Unknown', 0.12955245133313362),\n",
       " ('home_status_Own Home', 0.1695670354360772),\n",
       " ('home_status_Rent Privately', 0.14508449870592188),\n",
       " ('home_status_Rent from Council/HA', -0.0705370744091468),\n",
       " ('home_status_Unclassified', -0.2785341772502926),\n",
       " ('self_employed_Yes', 0.1368000702770177),\n",
       " ('self_employed_partner_Yes', 0.17616738774281715),\n",
       " ('TVarea_Border', -0.4318250562185666),\n",
       " ('TVarea_Carlton', 0.17801380919640916),\n",
       " ('TVarea_Central', 0.052824866090062615),\n",
       " ('TVarea_Grampian', -0.003858297935094518),\n",
       " ('TVarea_Granada', 0.3122789959555893),\n",
       " ('TVarea_HTV', -0.340874425675921),\n",
       " ('TVarea_Meridian', -0.2851930915377249),\n",
       " ('TVarea_Scottish TV', 0.4070885699740142),\n",
       " ('TVarea_TV South West', 0.4797606732888322),\n",
       " ('TVarea_Tyne Tees', 0.6007078218354373),\n",
       " ('TVarea_Ulster', 0.05184120797035597),\n",
       " ('TVarea_Unknown', 0.8208528419051234),\n",
       " ('TVarea_Yorkshire', 0.18394869293861213),\n",
       " ('gender_Male', 0.3426251317324702),\n",
       " ('gender_Unknown', -0.3080313565239678),\n",
       " ('region_East Anglia', 0.004563368578314305),\n",
       " ('region_East Midlands', -0.18286652088741978),\n",
       " ('region_Isle of Man', -0.4717650641308721),\n",
       " ('region_North', -0.6258796135743979),\n",
       " ('region_North West', -0.09772319531140243),\n",
       " ('region_Northern Ireland', 0.05184120797035597),\n",
       " ('region_Scotland', 0.00016292509090652367),\n",
       " ('region_South East', -0.1862711150732261),\n",
       " ('region_South West', -0.0438011588171291),\n",
       " ('region_Unknown', -0.2281706906154651),\n",
       " ('region_Wales', 0.09943827245337596),\n",
       " ('region_West Midlands', -0.2939617409379593)]"
      ]
     },
     "execution_count": 288,
     "metadata": {},
     "output_type": "execute_result"
    }
   ],
   "source": [
    "list(zip(x_train.columns,logr.coef_[0]))"
   ]
  },
  {
   "cell_type": "code",
   "execution_count": null,
   "metadata": {},
   "outputs": [],
   "source": []
  }
 ],
 "metadata": {
  "kernelspec": {
   "display_name": "Python 3",
   "language": "python",
   "name": "python3"
  },
  "language_info": {
   "codemirror_mode": {
    "name": "ipython",
    "version": 3
   },
   "file_extension": ".py",
   "mimetype": "text/x-python",
   "name": "python",
   "nbconvert_exporter": "python",
   "pygments_lexer": "ipython3",
   "version": "3.6.4"
  }
 },
 "nbformat": 4,
 "nbformat_minor": 2
}
